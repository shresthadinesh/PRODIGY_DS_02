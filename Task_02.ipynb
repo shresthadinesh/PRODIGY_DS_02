{
 "cells": [
  {
   "cell_type": "code",
   "execution_count": null,
   "id": "880ec3d1-8c9f-4df8-a0dc-7730431baad3",
   "metadata": {},
   "outputs": [],
   "source": []
  }
 ],
 "metadata": {
  "kernelspec": {
   "display_name": "",
   "name": ""
  },
  "language_info": {
   "name": ""
  }
 },
 "nbformat": 4,
 "nbformat_minor": 5
}
